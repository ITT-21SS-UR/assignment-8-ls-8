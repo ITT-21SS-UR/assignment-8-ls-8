{
 "cells": [
  {
   "cell_type": "markdown",
   "metadata": {},
   "source": [
    "# Using the Fast Fourier Transform and Support Vector Machines to classify activity data"
   ]
  },
  {
   "cell_type": "code",
   "execution_count": null,
   "metadata": {},
   "outputs": [],
   "source": [
    "%matplotlib inline\n",
    "import matplotlib\n",
    "matplotlib.rcParams.update({'figure.figsize': (12.0, 8.0)})"
   ]
  },
  {
   "cell_type": "code",
   "execution_count": null,
   "metadata": {},
   "outputs": [],
   "source": [
    "from pylab import *\n",
    "from scipy.fft import fft\n",
    "from sklearn import svm\n",
    "import numpy as np"
   ]
  },
  {
   "cell_type": "markdown",
   "metadata": {},
   "source": [
    "## We have logged some sensor data for three different activities - let's see whether we can use it to classify activities"
   ]
  },
  {
   "cell_type": "code",
   "execution_count": null,
   "metadata": {},
   "outputs": [],
   "source": [
    "# remove the trailing empty line from all csv files before importing them!\n",
    "# you can also get the list of files via `glob.glob(\"./stand_*.csv\")`\n",
    "stand_csv = [\"./stand_1.csv\", \"./stand_2.csv\", \"./stand_3.csv\", \"./stand_4.csv\"]\n",
    "walk_csv = [\"./walk_1.csv\", \"./walk_2.csv\", \"./walk_3.csv\", \"./walk_4.csv\"]\n",
    "hop_csv = [\"./hop1.csv\", \"./hop2.csv\", \"./hop3.csv\", \"./hop4.csv\"]"
   ]
  },
  {
   "cell_type": "code",
   "execution_count": null,
   "metadata": {},
   "outputs": [],
   "source": [
    "# in practice, you would do this with csv.Reader or pandas\n",
    "def read_data(filename):\n",
    "    x = []\n",
    "    y = []\n",
    "    z = []\n",
    "    avg = []\n",
    "    for line in open(filename, \"r\").readlines():\n",
    "        _x, _y, _z = map(int,line.strip().split(\",\"))\n",
    "        x.append(_x)\n",
    "        y.append(_y)\n",
    "        z.append(_z)\n",
    "        avg.append((_x+_y+_z)/3)\n",
    "    return avg"
   ]
  },
  {
   "cell_type": "code",
   "execution_count": null,
   "metadata": {},
   "outputs": [],
   "source": [
    "stand_raw = [read_data(f) for f in stand_csv]\n",
    "walk_raw  = [read_data(f) for f in walk_csv]\n",
    "hop_raw  = [read_data(f) for f in hop_csv]"
   ]
  },
  {
   "cell_type": "code",
   "execution_count": null,
   "metadata": {},
   "outputs": [],
   "source": [
    "# cut off \n",
    "all = stand_raw + walk_raw + hop_raw\n",
    "minlen = min([len(x) for x in all])\n",
    "print(\"Cutting off after\", minlen , \"samples\")\n",
    "stand_cut = [l[:minlen] for l in stand_raw]\n",
    "walk_cut = [l[:minlen] for l in walk_raw]\n",
    "hop_cut = [l[:minlen] for l in hop_raw]"
   ]
  },
  {
   "cell_type": "code",
   "execution_count": null,
   "metadata": {},
   "outputs": [],
   "source": [
    "print(stand_cut[0])"
   ]
  },
  {
   "cell_type": "markdown",
   "metadata": {},
   "source": [
    "## Naive implementation: just throw data at the classifier"
   ]
  },
  {
   "cell_type": "code",
   "execution_count": null,
   "metadata": {},
   "outputs": [],
   "source": [
    "c = svm.SVC()"
   ]
  },
  {
   "cell_type": "code",
   "execution_count": null,
   "metadata": {},
   "outputs": [],
   "source": [
    "# we will use the first example of each class as test data and the rest as training data\n",
    "STAND = 0\n",
    "WALK = 1\n",
    "HOP = 2\n",
    "categories = [STAND] * 3 + [WALK] * 3 + [HOP] * 3\n",
    "training_data = stand_cut[1:] + walk_cut[1:] + hop_cut[1:]\n",
    "c.fit(training_data,categories)"
   ]
  },
  {
   "cell_type": "code",
   "execution_count": null,
   "metadata": {},
   "outputs": [],
   "source": [
    "c.predict([stand_cut[0], walk_cut[0], hop_cut[0]]) # should be [0, 1, 2]"
   ]
  },
  {
   "cell_type": "code",
   "execution_count": null,
   "metadata": {},
   "outputs": [],
   "source": [
    "# we will use the first example of each class as test data and the rest as training data\n",
    "STAND = 0\n",
    "WALK = 1\n",
    "HOP = 2\n",
    "categories = [STAND] * 3 + [WALK] * 3 + [HOP] * 3\n",
    "training_data = stand_cut[1:] + walk_cut[1:] + hop_cut[1:]\n",
    "c.fit(training_data,categories)"
   ]
  },
  {
   "cell_type": "markdown",
   "metadata": {},
   "source": [
    "## Let's try a neural network!"
   ]
  },
  {
   "cell_type": "code",
   "execution_count": null,
   "metadata": {},
   "outputs": [],
   "source": [
    "from sklearn.neural_network import MLPClassifier\n",
    "mlc = MLPClassifier(solver='lbfgs', alpha=1e-5, hidden_layer_sizes=(5, 2), random_state=1)\n",
    "\n",
    "mlc.fit(training_data, categories)\n",
    "mlc.predict([stand_cut[0], walk_cut[0], hop_cut[0]])"
   ]
  },
  {
   "cell_type": "markdown",
   "metadata": {},
   "source": [
    "General principle: \"garbage in - garbage out\".\n",
    "\n",
    "While sufficiently large neural networks may find patterns, you would need large training data sets.\n"
   ]
  },
  {
   "cell_type": "markdown",
   "metadata": {},
   "source": [
    "## Try No. 2: Let's help the classifier..."
   ]
  },
  {
   "cell_type": "markdown",
   "metadata": {},
   "source": [
    "### First step: take a look at the data"
   ]
  },
  {
   "cell_type": "code",
   "execution_count": null,
   "metadata": {},
   "outputs": [],
   "source": [
    "for example in stand_cut:\n",
    "    plot(example, c='r')"
   ]
  },
  {
   "cell_type": "code",
   "execution_count": null,
   "metadata": {},
   "outputs": [],
   "source": [
    "for example in walk_cut:\n",
    "    plot(example, c='g')"
   ]
  },
  {
   "cell_type": "code",
   "execution_count": null,
   "metadata": {},
   "outputs": [],
   "source": [
    "for example in hop_cut:\n",
    "    plot(example, c='b')"
   ]
  },
  {
   "cell_type": "code",
   "execution_count": null,
   "metadata": {},
   "outputs": [],
   "source": [
    "plot(stand_cut[0], c='r')\n",
    "plot(walk_cut[0], c='b')\n",
    "plot(hop_cut[0], c='g')"
   ]
  },
  {
   "cell_type": "markdown",
   "metadata": {},
   "source": [
    "### Preprocessing Raw Data using the FFT"
   ]
  },
  {
   "cell_type": "code",
   "execution_count": null,
   "metadata": {},
   "outputs": [],
   "source": [
    "stand_freq = [np.abs(fft(l)/len(l))[1:len(l)//2] for l in stand_cut]\n",
    "walk_freq = [np.abs(fft(l)/len(l))[1:len(l)//2] for l in walk_cut]\n",
    "hop_freq = [np.abs(fft(l)/len(l))[1:len(l)//2] for l in hop_cut]"
   ]
  },
  {
   "cell_type": "code",
   "execution_count": null,
   "metadata": {},
   "outputs": [],
   "source": [
    "for x in range(4):\n",
    "    plot(range(len(hop_freq[x])), hop_freq[x])"
   ]
  },
  {
   "cell_type": "code",
   "execution_count": null,
   "metadata": {},
   "outputs": [],
   "source": [
    "for x in range(4):\n",
    "    plot(range(len(walk_freq[x])), walk_freq[x])"
   ]
  },
  {
   "cell_type": "code",
   "execution_count": null,
   "metadata": {},
   "outputs": [],
   "source": [
    "for x in range(4):\n",
    "    plot(range(len(stand_freq[x])), stand_freq[x])"
   ]
  },
  {
   "cell_type": "markdown",
   "metadata": {},
   "source": [
    "### Train an SVM classifier"
   ]
  },
  {
   "cell_type": "code",
   "execution_count": null,
   "metadata": {},
   "outputs": [],
   "source": [
    "c = svm.SVC()"
   ]
  },
  {
   "cell_type": "code",
   "execution_count": null,
   "metadata": {},
   "outputs": [],
   "source": [
    "STAND = 0\n",
    "WALK = 1\n",
    "HOP = 2\n",
    "categories = [STAND] * 3 + [WALK] * 3 + [HOP] * 3\n",
    "training_data = stand_freq[1:] + walk_freq[1:] + hop_freq[1:]\n",
    "c.fit(training_data,categories)"
   ]
  },
  {
   "cell_type": "code",
   "execution_count": null,
   "metadata": {},
   "outputs": [],
   "source": [
    "c.predict([stand_freq[0], walk_freq[0], hop_freq[0]])"
   ]
  },
  {
   "cell_type": "markdown",
   "metadata": {},
   "source": [
    "## Yay!"
   ]
  },
  {
   "cell_type": "markdown",
   "metadata": {},
   "source": [
    "(Bonus question: why not just use the mean value of each example for classification)"
   ]
  },
  {
   "cell_type": "code",
   "execution_count": null,
   "metadata": {},
   "outputs": [],
   "source": []
  }
 ],
 "metadata": {
  "kernelspec": {
   "display_name": "Python 3",
   "language": "python",
   "name": "python3"
  },
  "language_info": {
   "codemirror_mode": {
    "name": "ipython",
    "version": 3
   },
   "file_extension": ".py",
   "mimetype": "text/x-python",
   "name": "python",
   "nbconvert_exporter": "python",
   "pygments_lexer": "ipython3",
   "version": "3.9.1"
  }
 },
 "nbformat": 4,
 "nbformat_minor": 1
}
